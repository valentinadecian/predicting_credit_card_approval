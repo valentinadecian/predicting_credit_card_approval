{
 "cells": [
  {
   "cell_type": "markdown",
   "id": "35aebf2e-0635-4fef-bc9a-877b6a20fb13",
   "metadata": {},
   "source": [
    "Commercial banks receive _a lot_ of applications for credit cards. Many of them get rejected for many reasons, like high loan balances, low income levels, or too many inquiries on an individual's credit report, for example. Manually analyzing these applications is mundane, error-prone, and time-consuming (and time is money!). Luckily, this task can be automated with the power of machine learning and pretty much every commercial bank does so nowadays. In this workbook, you will build an automatic credit card approval predictor using machine learning techniques, just like real banks do.\n",
    "\n",
    "### The Data\n",
    "\n",
    "The data is a small subset of the Credit Card Approval dataset from the UCI Machine Learning Repository showing the credit card applications a bank receives. This dataset has been loaded as a `pandas` DataFrame called `cc_apps`. The last column in the dataset is the target value."
   ]
  },
  {
   "cell_type": "code",
   "execution_count": 462,
   "id": "6e86b1e8-a3fa-4b09-982f-795f218bd1a6",
   "metadata": {
    "executionCancelledAt": null,
    "executionTime": 38,
    "lastExecutedAt": 1743583901170,
    "lastExecutedByKernel": "8ed799ca-2e88-4069-8300-6d4833ddaa93",
    "lastScheduledRunId": null,
    "lastSuccessfullyExecutedCode": "# Import necessary libraries\nimport pandas as pd\nimport numpy as np\nfrom sklearn.model_selection import train_test_split\nfrom sklearn.preprocessing import StandardScaler\nfrom sklearn.linear_model import LogisticRegression\nfrom sklearn.metrics import confusion_matrix\nfrom sklearn.model_selection import GridSearchCV\n\n# Load the dataset\ncc_apps = pd.read_csv(\"cc_approvals.data\", header=None) \ncc_apps.head()",
    "outputsMetadata": {
     "0": {
      "height": 501,
      "tableState": {
       "customFilter": {
        "const": {
         "type": "boolean",
         "valid": true,
         "value": true
        },
        "id": "016c56c9-21cd-4253-ae9c-070d06f954b9",
        "nodeType": "const"
       }
      },
      "type": "dataFrame"
     }
    }
   },
   "outputs": [],
   "source": [
    "import pandas as pd\n",
    "import numpy as np\n",
    "import matplotlib.pyplot as plt\n",
    "from sklearn.model_selection import train_test_split, cross_val_score, GridSearchCV\n",
    "from sklearn.preprocessing import StandardScaler\n",
    "from sklearn.linear_model import LogisticRegression"
   ]
  },
  {
   "cell_type": "code",
   "execution_count": 463,
   "id": "0a06ba7d",
   "metadata": {},
   "outputs": [
    {
     "name": "stdout",
     "output_type": "stream",
     "text": [
      "  0      1      2  3  4  5  6     7  8  9   10 11   12 13\n",
      "0  b  30.83  0.000  u  g  w  v  1.25  t  t   1  g    0  +\n",
      "1  a  58.67  4.460  u  g  q  h  3.04  t  t   6  g  560  +\n",
      "2  a  24.50  0.500  u  g  q  h  1.50  t  f   0  g  824  +\n",
      "3  b  27.83  1.540  u  g  w  v  3.75  t  t   5  g    3  +\n",
      "4  b  20.17  5.625  u  g  w  v  1.71  t  f   0  s    0  +\n",
      "\n",
      "\n",
      "<class 'pandas.core.frame.DataFrame'>\n",
      "RangeIndex: 690 entries, 0 to 689\n",
      "Data columns (total 14 columns):\n",
      " #   Column  Non-Null Count  Dtype  \n",
      "---  ------  --------------  -----  \n",
      " 0   0       690 non-null    object \n",
      " 1   1       690 non-null    object \n",
      " 2   2       690 non-null    float64\n",
      " 3   3       690 non-null    object \n",
      " 4   4       690 non-null    object \n",
      " 5   5       690 non-null    object \n",
      " 6   6       690 non-null    object \n",
      " 7   7       690 non-null    float64\n",
      " 8   8       690 non-null    object \n",
      " 9   9       690 non-null    object \n",
      " 10  10      690 non-null    int64  \n",
      " 11  11      690 non-null    object \n",
      " 12  12      690 non-null    int64  \n",
      " 13  13      690 non-null    object \n",
      "dtypes: float64(2), int64(2), object(10)\n",
      "memory usage: 75.6+ KB\n",
      "None\n"
     ]
    }
   ],
   "source": [
    "# Load the dataset and get basic info\n",
    "cc_apps = pd.read_csv(\"C:/Users/valen/Documents/VALENTINA/git_projects/predicting_credit_card_approval/data/cc_approvals.data\", header=None) \n",
    "print(cc_apps.head())\n",
    "print('\\n')\n",
    "print(cc_apps.info())"
   ]
  },
  {
   "cell_type": "markdown",
   "id": "35d28bd6",
   "metadata": {},
   "source": [
    "There are no nulls.\n",
    "\n",
    "Non numerical columns must be one-hot encoded to be used in a ML model."
   ]
  },
  {
   "cell_type": "code",
   "execution_count": 464,
   "id": "475ded94-fee6-48d1-9493-a29b7d639af6",
   "metadata": {
    "executionCancelledAt": null,
    "executionTime": 56,
    "lastExecutedAt": 1743583901283,
    "lastExecutedByKernel": "8ed799ca-2e88-4069-8300-6d4833ddaa93",
    "lastScheduledRunId": null,
    "lastSuccessfullyExecutedCode": "print(cc_apps.select_dtypes('object').describe())",
    "outputsMetadata": {
     "0": {
      "height": 122,
      "type": "stream"
     }
    }
   },
   "outputs": [
    {
     "name": "stdout",
     "output_type": "stream",
     "text": [
      "         0    1    3    4    5    6    8    9    11   13\n",
      "count   690  690  690  690  690  690  690  690  690  690\n",
      "unique    3  350    4    4   15   10    2    2    3    2\n",
      "top       b    ?    u    g    c    v    t    f    g    -\n",
      "freq    468   12  519  519  137  399  361  395  625  383\n",
      "\n",
      " 0\n",
      "?     12\n",
      "a    210\n",
      "b    468\n",
      "Name: count, dtype: int64\n",
      "\n",
      " 1\n",
      "13.75     1\n",
      "15.17     1\n",
      "15.75     1\n",
      "15.83     2\n",
      "15.92     1\n",
      "         ..\n",
      "73.42     1\n",
      "74.83     1\n",
      "76.75     1\n",
      "80.25     1\n",
      "?        12\n",
      "Name: count, Length: 350, dtype: int64\n",
      "\n",
      " 3\n",
      "?      6\n",
      "l      2\n",
      "u    519\n",
      "y    163\n",
      "Name: count, dtype: int64\n",
      "\n",
      " 4\n",
      "?       6\n",
      "g     519\n",
      "gg      2\n",
      "p     163\n",
      "Name: count, dtype: int64\n",
      "\n",
      " 5\n",
      "?       9\n",
      "aa     54\n",
      "c     137\n",
      "cc     41\n",
      "d      30\n",
      "e      25\n",
      "ff     53\n",
      "i      59\n",
      "j      10\n",
      "k      51\n",
      "m      38\n",
      "q      78\n",
      "r       3\n",
      "w      64\n",
      "x      38\n",
      "Name: count, dtype: int64\n",
      "\n",
      " 6\n",
      "?       9\n",
      "bb     59\n",
      "dd      6\n",
      "ff     57\n",
      "h     138\n",
      "j       8\n",
      "n       4\n",
      "o       2\n",
      "v     399\n",
      "z       8\n",
      "Name: count, dtype: int64\n",
      "\n",
      " 8\n",
      "f    329\n",
      "t    361\n",
      "Name: count, dtype: int64\n",
      "\n",
      " 9\n",
      "f    395\n",
      "t    295\n",
      "Name: count, dtype: int64\n",
      "\n",
      " 11\n",
      "g    625\n",
      "p      8\n",
      "s     57\n",
      "Name: count, dtype: int64\n",
      "\n",
      " 13\n",
      "+    307\n",
      "-    383\n",
      "Name: count, dtype: int64\n"
     ]
    }
   ],
   "source": [
    "# Investigate non numerical columns\n",
    "\n",
    "print(cc_apps.select_dtypes('object').describe())   # panoramic of all non-numerical columns\n",
    "for col in cc_apps.columns:\n",
    "    if cc_apps[col].dtype == 'object':\n",
    "        print('\\n', cc_apps[col].value_counts().sort_index())"
   ]
  },
  {
   "cell_type": "markdown",
   "id": "ed1a56f1",
   "metadata": {},
   "source": [
    "Observations:\n",
    "- For almost every column there is a category '?', probably because some data is missing. I think the best option is to replace these values with the most frequent value in the column, except for column 1, where it's better to replace it with mean or median.\n",
    "- In columns 3 and 4 there is a very under-represented class. I should raplace it with the most frequent class, so they will become binary columns. In column 6 the situation is similar but there are more classes. I will group under-represented classes into one called 'other'. \n",
    "- Column 1 is actually a numerical column. I should replace '?' with a number and convert column to float.\n",
    "- Columns 3 and 4 looks very similar. Probably they are strongly correlated.\n",
    "- Target column 13 can be considered balanced."
   ]
  },
  {
   "cell_type": "code",
   "execution_count": 465,
   "id": "4cad33e1",
   "metadata": {},
   "outputs": [
    {
     "name": "stdout",
     "output_type": "stream",
     "text": [
      "         0    1    3    4    5    6    8    9    11   13\n",
      "count   690  690  690  690  690  690  690  690  690  690\n",
      "unique    2  350    2    2   14    5    2    2    3    2\n",
      "top       b    ?    u    g    c    v    t    f    g    -\n",
      "freq    480   12  527  527  146  408  361  395  625  383\n",
      "\n",
      " 0\n",
      "a    210\n",
      "b    480\n",
      "Name: count, dtype: int64\n",
      "\n",
      " 3\n",
      "u    527\n",
      "y    163\n",
      "Name: count, dtype: int64\n",
      "\n",
      " 4\n",
      "g    527\n",
      "p    163\n",
      "Name: count, dtype: int64\n",
      "\n",
      " 5\n",
      "aa     54\n",
      "c     146\n",
      "cc     41\n",
      "d      30\n",
      "e      25\n",
      "ff     53\n",
      "i      59\n",
      "j      10\n",
      "k      51\n",
      "m      38\n",
      "q      78\n",
      "r       3\n",
      "w      64\n",
      "x      38\n",
      "Name: count, dtype: int64\n",
      "\n",
      " 6\n",
      "bb        59\n",
      "ff        57\n",
      "h        138\n",
      "other     28\n",
      "v        408\n",
      "Name: count, dtype: int64\n"
     ]
    }
   ],
   "source": [
    "cols_replace_missing = [0, 3, 4, 5, 6]  # columns in which I will replace '?' with most frequent value\n",
    "\n",
    "for col in cols_replace_missing:\n",
    "    cc_apps[col] = cc_apps[col].replace('?', cc_apps[col].mode()[0])\n",
    "\n",
    "under_rep = {3 : 'l', 4 : 'gg'}\n",
    "for k, v in under_rep.items():\n",
    "    cc_apps[k] = cc_apps[k].replace(v, cc_apps[k].mode()[0])\n",
    "\n",
    "under_rep_col_6 = ['dd', 'j', 'n', 'o', 'z']\n",
    "for ur6 in under_rep_col_6:\n",
    "    cc_apps[6] = cc_apps[6].replace(ur6, 'other')\n",
    "\n",
    "# Check\n",
    "\n",
    "print(cc_apps.select_dtypes('object').describe())   # panoramic of all non-numerical columns\n",
    "for col in cols_replace_missing:\n",
    "    print('\\n', cc_apps[col].value_counts().sort_index())"
   ]
  },
  {
   "cell_type": "code",
   "execution_count": 466,
   "id": "d021d1b3-1a91-4cb8-93af-1f8da89a4363",
   "metadata": {
    "collapsed": true,
    "executionCancelledAt": null,
    "executionTime": 56,
    "jupyter": {
     "outputs_hidden": true,
     "source_hidden": false
    },
    "lastExecutedAt": 1743583901395,
    "lastExecutedByKernel": "8ed799ca-2e88-4069-8300-6d4833ddaa93",
    "lastScheduledRunId": null,
    "lastSuccessfullyExecutedCode": "print(cc_apps[1].value_counts())\ncc_apps = cc_apps.drop(cc_apps[cc_apps[1] == '?'].index)\ncc_apps[1] = cc_apps[1].astype('float')\nprint(cc_apps[1].describe())"
   },
   "outputs": [
    {
     "name": "stdout",
     "output_type": "stream",
     "text": [
      "mean = 31.56817109144543\n",
      "mean = 28.46\n"
     ]
    },
    {
     "data": {
      "image/png": "[encoded data removed]",
      "text/plain": [
       "<Figure size 640x480 with 1 Axes>"
      ]
     },
     "metadata": {},
     "output_type": "display_data"
    }
   ],
   "source": [
    "# Column 1: if the distribution is skewed replace '?' with median, otherwise use the mean\n",
    "\n",
    "col_1_float = cc_apps[1][cc_apps[1] != '?'].astype('float')     # consider only numbers     \n",
    "col_1_float_mean = col_1_float.mean()\n",
    "col_1_float_median = col_1_float.median()\n",
    "print(f'mean = {col_1_float_mean}')\n",
    "print(f'mean = {col_1_float_median}')\n",
    "\n",
    "plt.hist(col_1_float, bins=100)\n",
    "plt.show()"
   ]
  },
  {
   "cell_type": "code",
   "execution_count": 467,
   "id": "96456f3f",
   "metadata": {},
   "outputs": [
    {
     "name": "stdout",
     "output_type": "stream",
     "text": [
      "count    690.000000\n",
      "mean      31.514116\n",
      "std       11.860245\n",
      "min       13.750000\n",
      "25%       22.670000\n",
      "50%       28.460000\n",
      "75%       37.707500\n",
      "max       80.250000\n",
      "Name: 1, dtype: float64\n"
     ]
    }
   ],
   "source": [
    "cc_apps[1] = cc_apps[1].replace('?', col_1_float_median)    # the distribution is a bit skewed, so we use the median\n",
    "cc_apps[1] = cc_apps[1].astype('float')\n",
    "print(cc_apps[1].describe())"
   ]
  },
  {
   "cell_type": "code",
   "execution_count": 468,
   "id": "e9d6e44d",
   "metadata": {},
   "outputs": [
    {
     "name": "stdout",
     "output_type": "stream",
     "text": [
      "         0    3    4    5    6    8    9    11   13\n",
      "count   690  690  690  690  690  690  690  690  690\n",
      "unique    2    2    2   14    5    2    2    3    2\n",
      "top       b    u    g    c    v    t    f    g    -\n",
      "freq    480  527  527  146  408  361  395  625  383\n"
     ]
    }
   ],
   "source": [
    "# Now let's convert columns to binary or dummy, depending on the number of categories\n",
    "\n",
    "print(cc_apps.select_dtypes('object').describe())   # panoramic of all non-numerical columns"
   ]
  },
  {
   "cell_type": "code",
   "execution_count": 469,
   "id": "d9bfd2a2",
   "metadata": {},
   "outputs": [],
   "source": [
    "col_binary = [0, 3, 4, 8, 9, 13]\n",
    "col_dummy = [5, 6, 11]\n",
    "\n",
    "for col in col_binary:\n",
    "    cc_apps[col] = np.where(cc_apps[col] == cc_apps[col].mode()[0], 0, 1)\n",
    "\n",
    "cc_apps = pd.get_dummies(cc_apps, columns=col_dummy, drop_first=True)"
   ]
  },
  {
   "cell_type": "code",
   "execution_count": 470,
   "id": "323ea5b5",
   "metadata": {},
   "outputs": [
    {
     "name": "stdout",
     "output_type": "stream",
     "text": [
      "\n",
      " 0\n",
      "0    480\n",
      "1    210\n",
      "Name: count, dtype: int64\n",
      "\n",
      " 3\n",
      "0    527\n",
      "1    163\n",
      "Name: count, dtype: int64\n",
      "\n",
      " 4\n",
      "0    527\n",
      "1    163\n",
      "Name: count, dtype: int64\n",
      "\n",
      " 8\n",
      "0    361\n",
      "1    329\n",
      "Name: count, dtype: int64\n",
      "\n",
      " 9\n",
      "0    395\n",
      "1    295\n",
      "Name: count, dtype: int64\n",
      "\n",
      " 13\n",
      "0    383\n",
      "1    307\n",
      "Name: count, dtype: int64\n",
      "Index([        0,         1,         2,         3,         4,         7,\n",
      "               8,         9,        10,        12,        13,     '5_c',\n",
      "          '5_cc',     '5_d',     '5_e',    '5_ff',     '5_i',     '5_j',\n",
      "           '5_k',     '5_m',     '5_q',     '5_r',     '5_w',     '5_x',\n",
      "          '6_ff',     '6_h', '6_other',     '6_v',    '11_p',    '11_s'],\n",
      "      dtype='object')\n"
     ]
    }
   ],
   "source": [
    "# Last checks for non-numerical columns\n",
    "\n",
    "for col in col_binary:\n",
    "    print('\\n', cc_apps[col].value_counts().sort_index())\n",
    "\n",
    "print(cc_apps.columns)"
   ]
  },
  {
   "cell_type": "markdown",
   "id": "eb3573b0",
   "metadata": {},
   "source": [
    "We'll also check the distribution of numerical columns to look for anomalies."
   ]
  },
  {
   "cell_type": "code",
   "execution_count": 471,
   "id": "213a35d0-ded6-4099-8e5e-52e0fe592fc9",
   "metadata": {
    "collapsed": true,
    "executionCancelledAt": null,
    "executionTime": 52,
    "jupyter": {
     "outputs_hidden": true,
     "source_hidden": false
    },
    "lastExecutedAt": 1743583901875,
    "lastExecutedByKernel": "8ed799ca-2e88-4069-8300-6d4833ddaa93",
    "lastScheduledRunId": null,
    "lastSuccessfullyExecutedCode": "print(cc_apps[[2, 7, 10, 12]].describe())",
    "outputsMetadata": {
     "0": {
      "height": 206,
      "type": "stream"
     }
    }
   },
   "outputs": [
    {
     "name": "stdout",
     "output_type": "stream",
     "text": [
      "                1           2           7         10             12\n",
      "count  690.000000  690.000000  690.000000  690.00000     690.000000\n",
      "mean    31.514116    4.758725    2.223406    2.40000    1017.385507\n",
      "std     11.860245    4.978163    3.346513    4.86294    5210.102598\n",
      "min     13.750000    0.000000    0.000000    0.00000       0.000000\n",
      "25%     22.670000    1.000000    0.165000    0.00000       0.000000\n",
      "50%     28.460000    2.750000    1.000000    0.00000       5.000000\n",
      "75%     37.707500    7.207500    2.625000    3.00000     395.500000\n",
      "max     80.250000   28.000000   28.500000   67.00000  100000.000000\n"
     ]
    }
   ],
   "source": [
    "print(cc_apps[[1, 2, 7, 10, 12]].describe())   # investigate numerical columns"
   ]
  },
  {
   "cell_type": "markdown",
   "id": "fa938a00",
   "metadata": {},
   "source": [
    "There is no evidence of anomalies."
   ]
  },
  {
   "cell_type": "code",
   "execution_count": 472,
   "id": "d24802c3-5af3-4c83-8dd7-40f6b8c61669",
   "metadata": {
    "executionCancelledAt": null,
    "executionTime": 55,
    "lastExecutedAt": 1743583901930,
    "lastExecutedByKernel": "8ed799ca-2e88-4069-8300-6d4833ddaa93",
    "lastScheduledRunId": null,
    "lastSuccessfullyExecutedCode": "print(cc_apps.columns)\nprint(cc_apps.shape)",
    "outputsMetadata": {
     "0": {
      "height": 143,
      "type": "stream"
     }
    }
   },
   "outputs": [
    {
     "name": "stdout",
     "output_type": "stream",
     "text": [
      "Index([        0,         1,         2,         3,         4,         7,\n",
      "               8,         9,        10,        12,        13,     '5_c',\n",
      "          '5_cc',     '5_d',     '5_e',    '5_ff',     '5_i',     '5_j',\n",
      "           '5_k',     '5_m',     '5_q',     '5_r',     '5_w',     '5_x',\n",
      "          '6_ff',     '6_h', '6_other',     '6_v',    '11_p',    '11_s'],\n",
      "      dtype='object')\n",
      "(690, 30)\n"
     ]
    }
   ],
   "source": [
    "# check the final version of our dataset\n",
    "\n",
    "print(cc_apps.columns)\n",
    "print(cc_apps.shape)"
   ]
  },
  {
   "cell_type": "markdown",
   "id": "72ea46a4",
   "metadata": {},
   "source": [
    "Compute columns correlation to see if we can delete some columns. Set the threshold of 'high correlation' to 0.7."
   ]
  },
  {
   "cell_type": "code",
   "execution_count": 473,
   "id": "ffd77e6e",
   "metadata": {},
   "outputs": [
    {
     "name": "stdout",
     "output_type": "stream",
     "text": [
      "[(3, 4, np.float64(1.0)), (4, 3, np.float64(1.0)), (8, 13, np.float64(0.72)), (13, 8, np.float64(0.72)), ('5_ff', '6_ff', np.float64(0.94)), ('6_ff', '5_ff', np.float64(0.94))]\n"
     ]
    }
   ],
   "source": [
    "threshold_corr = 0.7\n",
    "correlations = cc_apps.corr().abs()\n",
    "high_correlations = [(i, j, round(correlations.loc[i, j], 2)) for i in correlations.index for j in correlations.columns if i != j and correlations.loc[i, j] > threshold_corr]\n",
    "print(high_correlations)"
   ]
  },
  {
   "cell_type": "markdown",
   "id": "b652155d",
   "metadata": {},
   "source": [
    "Observations:\n",
    "- Columns 3 and 4 are strongly correlated (corr 1.0)\n",
    "- Column 8 is moderate-to-strongly correlated with the target (corr 0.72)\n",
    "- Columns 5_ff and 6_ff are strongly correlated (corr 0.94)\n",
    "\n",
    "I am oriented to delete columns 3, 5_ff."
   ]
  },
  {
   "cell_type": "code",
   "execution_count": 474,
   "id": "e9ac0125",
   "metadata": {},
   "outputs": [
    {
     "name": "stdout",
     "output_type": "stream",
     "text": [
      "Index([        0,         1,         2,         4,         7,         8,\n",
      "               9,        10,        12,        13,     '5_c',    '5_cc',\n",
      "           '5_d',     '5_e',     '5_i',     '5_j',     '5_k',     '5_m',\n",
      "           '5_q',     '5_r',     '5_w',     '5_x',    '6_ff',     '6_h',\n",
      "       '6_other',     '6_v',    '11_p',    '11_s'],\n",
      "      dtype='object')\n",
      "(690, 28)\n"
     ]
    }
   ],
   "source": [
    "cc_apps = cc_apps.drop([3, '5_ff'], axis=1)\n",
    "print(cc_apps.columns)\n",
    "print(cc_apps.shape)"
   ]
  },
  {
   "cell_type": "markdown",
   "id": "1b3d9b7a",
   "metadata": {},
   "source": [
    "Now we'll prepare features, target and a binary classification model.\n",
    "\n",
    "We will use a Logistic regressor."
   ]
  },
  {
   "cell_type": "code",
   "execution_count": 475,
   "id": "a60723b8-cc7f-4c0b-a30a-088c5d9b6484",
   "metadata": {
    "executionCancelledAt": null,
    "executionTime": 414,
    "lastExecutedAt": 1743583902344,
    "lastExecutedByKernel": "8ed799ca-2e88-4069-8300-6d4833ddaa93",
    "lastScheduledRunId": null,
    "lastSuccessfullyExecutedCode": "X = cc_apps.drop(13, axis=1).values\ny = cc_apps[13].values\nX_train, X_test, y_train, y_test = train_test_split(X, y, test_size=0.3, random_state=10)\n\nscaler = StandardScaler()\nX_train_scaled = scaler.fit_transform(X_train)\nX_test_scaled = scaler.transform(X_test)\n\nmodel = LogisticRegression()\nprint(model.get_params())\nparam_grid = {'max_iter' : [100, 150, 200], 'penalty' : ['l1', 'l2', 'elasticnet']}\ngs = GridSearchCV(estimator=model, param_grid=param_grid, cv=5)\n\ngs.fit(X_train_scaled, y_train)\nprint(gs.best_params_, gs.best_score_)\naccuracy = gs.best_estimator_.score(X_test_scaled, y_test)\nprint(accuracy)\nbest_score = accuracy\n\nmodel.fit(X_train_scaled, y_train)\naccuracy = model.score(X_test_scaled, y_test)\nprint(accuracy)",
    "outputsMetadata": {
     "0": {
      "height": 143,
      "type": "stream"
     }
    }
   },
   "outputs": [
    {
     "name": "stdout",
     "output_type": "stream",
     "text": [
      "CV scores with default parameters: [0.86231884 0.85507246 0.84057971 0.84782609], Average: 0.8514492753623188\n",
      "Test accuracy with default parameters : 0.8695652173913043\n",
      "Grid search results: best parameters {'C': 0.01, 'max_iter': 30}, best accuracy 0.855072463768116\n",
      "Test accuracy with optimized parameters : 0.855072463768116\n"
     ]
    }
   ],
   "source": [
    "X = cc_apps.drop(13, axis=1).values\n",
    "y = cc_apps[13].values\n",
    "X_train, X_test, y_train, y_test = train_test_split(X, y, test_size=0.2, random_state=10)\n",
    "\n",
    "scaler = StandardScaler()\n",
    "X_train_scaled = scaler.fit_transform(X_train)\n",
    "X_test_scaled = scaler.transform(X_test)\n",
    "\n",
    "model = LogisticRegression()    # model with default parameters\n",
    "cv_scores = cross_val_score(estimator=model, X=X_train_scaled, y=y_train, cv=4, scoring='accuracy')\n",
    "print(f'CV scores with default parameters: {cv_scores}, Average: {np.mean(cv_scores)}')\n",
    "\n",
    "model.fit(X_train_scaled, y_train)\n",
    "accuracy = model.score(X_test_scaled, y_test)\n",
    "print(f'Test accuracy with default parameters : {accuracy}')\n",
    "\n",
    "#print(model.get_params())\n",
    "param_grid = {'max_iter' : [30, 50, 100, 150], 'C' : [0.001, 0.01, 0.1, 1.0, 10.0]}\n",
    "gs = GridSearchCV(estimator=model, param_grid=param_grid, cv=4, scoring='accuracy')\n",
    "\n",
    "gs.fit(X_train_scaled, y_train)\n",
    "print(f'Grid search results: best parameters {gs.best_params_}, best accuracy {gs.best_score_}')\n",
    "accuracy = gs.best_estimator_.score(X_test_scaled, y_test)\n",
    "print(f'Test accuracy with optimized parameters : {accuracy}')"
   ]
  }
 ],
 "metadata": {
  "colab": {
   "name": "Welcome to DataCamp Workspaces.ipynb",
   "provenance": []
  },
  "editor": "DataLab",
  "kernelspec": {
   "display_name": "Python 3",
   "language": "python",
   "name": "python3"
  },
  "language_info": {
   "codemirror_mode": {
    "name": "ipython",
    "version": 3
   },
   "file_extension": ".py",
   "mimetype": "text/x-python",
   "name": "python",
   "nbconvert_exporter": "python",
   "pygments_lexer": "ipython3",
   "version": "3.13.7"
  }
 },
 "nbformat": 4,
 "nbformat_minor": 5
}
